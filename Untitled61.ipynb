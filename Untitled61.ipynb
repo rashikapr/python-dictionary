{
  "nbformat": 4,
  "nbformat_minor": 0,
  "metadata": {
    "colab": {
      "provenance": [],
      "authorship_tag": "ABX9TyMRLatM++HTdEXKg6u9L9AV",
      "include_colab_link": true
    },
    "kernelspec": {
      "name": "python3",
      "display_name": "Python 3"
    },
    "language_info": {
      "name": "python"
    }
  },
  "cells": [
    {
      "cell_type": "markdown",
      "metadata": {
        "id": "view-in-github",
        "colab_type": "text"
      },
      "source": [
        "<a href=\"https://colab.research.google.com/github/rashikapr/python-dictionary/blob/main/Untitled61.ipynb\" target=\"_parent\"><img src=\"https://colab.research.google.com/assets/colab-badge.svg\" alt=\"Open In Colab\"/></a>"
      ]
    },
    {
      "cell_type": "code",
      "execution_count": null,
      "metadata": {
        "id": "RQkiN0fu1D1k"
      },
      "outputs": [],
      "source": [
        "# Define Class\n",
        "class Contact_Details:\n",
        "\n",
        "    def __init__(self, name, mobile_number, email, address):\n",
        "        self.contact_name = name\n",
        "        self.contact_number = mobile_number\n",
        "        self.email = email\n",
        "        self.contact_address = address\n",
        "\n",
        "        # Make a dictionary of the contact details \n",
        "        self.person = {\n",
        "            \"name\": self.contact_name,\n",
        "            \"mobile\" : self.contact_number,\n",
        "            \"email\": self.email,\n",
        "            \"address\": self.contact_address\n",
        "        } \n",
        "\n",
        "    # Define the Methods of the class\n",
        "    \n",
        "    # View All Contact Details\n",
        "    def view_contact_details(self, contact_list):\n",
        "      print(contact_list)\n",
        "      \n",
        "\n",
        "    # Add the contact details to the list    \n",
        "    def add_contact_details(self, contact_list):\n",
        "      contact_list.append(self.person)\n"
      ]
    },
    {
      "cell_type": "code",
      "source": [
        "new_contact = Contact_Details('Preeti',8956478556,'preeti_dummy1@gmail.com', 'Delhi , India')\n",
        "\n",
        "print(new_contact)"
      ],
      "metadata": {
        "id": "36QcEz2R1J3T"
      },
      "execution_count": null,
      "outputs": []
    },
    {
      "cell_type": "code",
      "source": [
        "phonebook_list=[]"
      ],
      "metadata": {
        "id": "YjoAFR291Ko8"
      },
      "execution_count": null,
      "outputs": []
    },
    {
      "cell_type": "code",
      "source": [
        "new_contact = Contact_Details('Preeti',8956478556,'preeti_dummy1@gmail.com', 'Delhi , India')\n",
        "new_contact.view_contact_details(phonebook_list)\n",
        "\n",
        "# Create the object with new values\n",
        "new_contact = Contact_Details('Shean',8956476333,'shean_dummy1@gmail.com', 'California , USA')\n",
        "\n",
        "# Add details\n",
        "new_contact.add_contact_details(phonebook_list)\n",
        "\n",
        "# View details\n",
        "new_contact.view_contact_details(phonebook_list)"
      ],
      "metadata": {
        "id": "7t3AuU001PlJ"
      },
      "execution_count": null,
      "outputs": []
    }
  ]
}